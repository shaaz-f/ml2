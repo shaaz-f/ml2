{
  "cells": [
    {
      "cell_type": "markdown",
      "metadata": {
        "id": "ZA1wjGN1rDtK"
      },
      "source": [
        "# **Assignment 3**\n"
      ]
    },
    {
      "cell_type": "markdown",
      "metadata": {
        "id": "0G4oBA6DrIyr"
      },
      "source": [
        "### Insert your details below. You should see a green checkmark."
      ]
    },
    {
      "cell_type": "code",
      "execution_count": 1,
      "metadata": {
        "id": "gWWJ4OMvp-2i"
      },
      "outputs": [],
      "source": [
        "# Input student details (replace these with actual input values)\n",
        "student = {\n",
        "    \"name\": \"Shaaz Feerasta\",                    # Replace with your name\n",
        "    \"email\": \"feerasta@ualberta.ca\",       # Replace with your email\n",
        "    \"ccid\": \"feerasta\",                    # Replace with your CCID\n",
        "    \"idnumber\": 1704756,                 # Replace with your ID number\n",
        "}"
      ]
    },
    {
      "cell_type": "code",
      "execution_count": 2,
      "metadata": {
        "colab": {
          "base_uri": "https://localhost:8080/"
        },
        "id": "4kvuOlM0p_vZ",
        "outputId": "3e1c3c35-46fb-4505-ae3f-3dcd3a05fddc"
      },
      "outputs": [
        {
          "name": "stdout",
          "output_type": "stream",
          "text": [
            "Welcome Shaaz Feerasta! ✅\n"
          ]
        }
      ],
      "source": [
        "# Define the default and user-provided student dictionaries\n",
        "def_student = {\n",
        "    \"name\": \"NAME as in eclass\",\n",
        "    \"email\": \"UofA Email\",\n",
        "    \"ccid\": \"CCID\",\n",
        "    \"idnumber\": 0\n",
        "}\n",
        "\n",
        "\n",
        "# Validation checks\n",
        "assert set(def_student.keys()) == set(student.keys()),   \"You don't have all the right entries! Make sure you have `name`, `email`, `ccid`, `idnumber`. ❌\"\n",
        "assert not any(value == \"\" for value in student.values()), \"You haven't filled in all your details! No field should be empty. ❌\"\n",
        "assert all(isinstance(student[k], type(def_student[k])) for k in def_student),    \"Your types seem to be off: `name::String`, `email::String`, `ccid::String`, `idnumber::Int`. ❌\"\n",
        "assert student[\"email\"].endswith(\"@ualberta.ca\"), \"Your email must end with '@ualberta.ca'. ❌\"\n",
        "\n",
        "print(f\"Welcome {student['name']}! ✅\")\n"
      ]
    },
    {
      "cell_type": "markdown",
      "metadata": {
        "id": "VisLDpX6rAkr"
      },
      "source": [
        "# Preamble\n",
        "\n",
        "- Loading Packages\n",
        "- Generating Utilities"
      ]
    },
    {
      "cell_type": "code",
      "execution_count": 3,
      "metadata": {
        "id": "UsrPQX1tZF9U"
      },
      "outputs": [],
      "source": [
        "import numpy as np\n",
        "from tensorflow.keras.datasets import mnist\n",
        "import pandas as pd\n",
        "from itertools import product\n"
      ]
    },
    {
      "cell_type": "markdown",
      "metadata": {
        "id": "i_yP41IrYmLR"
      },
      "source": [
        "\n",
        "# Toy Data\n",
        "\n",
        "Let's first start by importing a dataset for use throughout the assignment.\n",
        "Later in the assignment, we will be using the full dataset for evaluating our models.\n",
        "But for debugging purposes, we will start with a small subset of the data to test our models very quickly.\n"
      ]
    },
    {
      "cell_type": "code",
      "execution_count": 4,
      "metadata": {
        "id": "SlnWQma9YfGh"
      },
      "outputs": [],
      "source": [
        "def isclose(a, b, prec=1e-8):\n",
        "    return np.linalg.norm(a - b) < prec\n"
      ]
    },
    {
      "cell_type": "code",
      "execution_count": 5,
      "metadata": {
        "id": "P_XxBa6KYvYi"
      },
      "outputs": [],
      "source": [
        "def one_hot(x):\n",
        "    # Collect unique values in order of appearance\n",
        "    unique_vals = []\n",
        "    for v in x:\n",
        "        if v not in unique_vals:\n",
        "            unique_vals.append(v)\n",
        "    unique_vals = np.array(unique_vals)\n",
        "\n",
        "    # Create a Boolean matrix of shape (num_unique, len(x))\n",
        "    onehot_matrix = (unique_vals[:, None] == x[None, :]).astype(np.float32)\n",
        "\n",
        "    # Transpose so that each row corresponds to one sample:\n",
        "    # Final shape becomes (len(x), num_unique)\n",
        "    return onehot_matrix.T\n"
      ]
    },
    {
      "cell_type": "code",
      "execution_count": 6,
      "metadata": {
        "id": "q3Sksx6ICGpE"
      },
      "outputs": [],
      "source": [
        "def prepMNIST(samples: int):\n",
        "\n",
        "    # Load the MNIST dataset.\n",
        "    (x_train, y_train), _ = mnist.load_data()\n",
        "\n",
        "    # print(\"Shape of x_train:\", x_train.shape)\n",
        "    # print(\"Shape of y_train:\", y_train.shape)\n",
        "    x_train = x_train.astype(np.float32) / 255.0\n",
        "\n",
        "    x_train = x_train.reshape(x_train.shape[0], 28 * 28)\n",
        "\n",
        "    # One-hot encode the labels.\n",
        "    y_train = one_hot(y_train)\n",
        "\n",
        "    return x_train[:samples], y_train[:samples]\n"
      ]
    },
    {
      "cell_type": "code",
      "execution_count": 7,
      "metadata": {
        "colab": {
          "base_uri": "https://localhost:8080/"
        },
        "id": "pwSSd6qzCepk",
        "outputId": "4e242e24-6c52-44b5-8d9d-25f0fcedf91c"
      },
      "outputs": [
        {
          "name": "stdout",
          "output_type": "stream",
          "text": [
            "Downloading data from https://storage.googleapis.com/tensorflow/tf-keras-datasets/mnist.npz\n",
            "\u001b[1m11490434/11490434\u001b[0m \u001b[32m━━━━━━━━━━━━━━━━━━━━\u001b[0m\u001b[37m\u001b[0m \u001b[1m0s\u001b[0m 0us/step\n"
          ]
        }
      ],
      "source": [
        "toy_x, toy_y = prepMNIST(500)"
      ]
    },
    {
      "cell_type": "code",
      "execution_count": 8,
      "metadata": {
        "colab": {
          "base_uri": "https://localhost:8080/"
        },
        "id": "Jw9v-v_9DjPr",
        "outputId": "2e4eadeb-4399-4c1d-ff20-af6d6221ec8a"
      },
      "outputs": [
        {
          "name": "stdout",
          "output_type": "stream",
          "text": [
            "(500, 784)\n"
          ]
        }
      ],
      "source": [
        "print(toy_x.shape)"
      ]
    },
    {
      "cell_type": "code",
      "execution_count": 9,
      "metadata": {
        "colab": {
          "base_uri": "https://localhost:8080/"
        },
        "id": "rFSK3TN3DanL",
        "outputId": "35ab5a0d-c3e3-4afe-ea2d-dd02760a0443"
      },
      "outputs": [
        {
          "name": "stdout",
          "output_type": "stream",
          "text": [
            "(500, 10)\n"
          ]
        }
      ],
      "source": [
        "print(toy_y.shape)"
      ]
    },
    {
      "cell_type": "markdown",
      "metadata": {
        "id": "LXWJVqKRcpR1"
      },
      "source": [
        "# Supervised Autoencoders\n",
        "\n",
        "In this part of the notebook, you will implement a supervised autoencoder with a single hidden layer.\n",
        "You will use backpropagation in order to take gradients w.r.t. the weights for a joint loss function:\n",
        "$$\n",
        "\\ell(\\mathbf{x}, \\mathbf{y}; \\mathbf{W}^{(2)}, \\mathbf{W}_x^{(1)}, \\mathbf{W}_y^{(1)}) = \\ell_y(\\hat{\\mathbf{y}}, \\mathbf{y}) + \\beta \\ell_x(\\hat{\\mathbf{x}}, \\mathbf{x})\n",
        "$$\n",
        "\n",
        "where $\\beta \\ge 0$ is a hyperparameter that determines with how much weight the autoencoder portion of the SAE influences the hidden dimension.\n",
        "\n",
        "As outlined in the assignment pdf, we will use identity activations (no activation, resulting in a linear function) for every layer except the heads corresponding to $\\hat{\\mathbf{y}}$. For this supervised part, because we are doing multinomial logistic regression, we use a softmax activation.\n",
        "The loss $\\ell_y$ is the multinomial cross-entropy for the \"$\\hat{\\mathbf{y}}$\" head of the neural network and the loss $\\ell_x$ is the mean squared error for the \"$\\hat{\\mathbf{x}}$\" head, where $\\hat{\\mathbf{y}} = \\text{softmax}(\\mathbf{x} \\mathbf{W}^{(2)} \\mathbf{W}_y^{(1)})$ and $\\hat{\\mathbf{x}} = \\mathbf{x} \\mathbf{W}^{(2)}  \\mathbf{W}_x^{(1)}$."
      ]
    },
    {
      "cell_type": "code",
      "execution_count": 10,
      "metadata": {
        "id": "zZyOszYjcNAB"
      },
      "outputs": [],
      "source": [
        "class SAE:\n",
        "    def __init__(self, features, hidden, outputs, rng):\n",
        "        self.W2 = rng.normal(0, 1 / (features + hidden), (features, hidden))\n",
        "        self.Wx = rng.normal(0, 1 / (features + hidden), (hidden, features))\n",
        "        self.Wy = rng.normal(0, 1 / (hidden + outputs), (hidden, outputs))\n"
      ]
    },
    {
      "cell_type": "code",
      "execution_count": 11,
      "metadata": {
        "id": "IgP8RWA4dj3e"
      },
      "outputs": [],
      "source": [
        "class SAEParams:\n",
        "    def __init__(self, β=None, alpha=None, epochs=None, hidden=None, vals=None):\n",
        "        if vals is not None:\n",
        "            self.β, self.alpha, self.epochs, self.hidden = vals\n",
        "        else:\n",
        "            self.β = β\n",
        "            self.alpha = alpha\n",
        "            self.epochs = epochs\n",
        "            self.hidden = hidden\n",
        "\n",
        "\n"
      ]
    },
    {
      "cell_type": "markdown",
      "metadata": {
        "id": "L7sQWzIreIDh"
      },
      "source": [
        "## Utility functions\n",
        "Here, we implement a few utility functions which we will need throughout the notebook."
      ]
    },
    {
      "cell_type": "code",
      "execution_count": 12,
      "metadata": {
        "id": "oHnyVk9zdpdO"
      },
      "outputs": [],
      "source": [
        "def softmax(X):\n",
        "    exp_X = np.exp(X)\n",
        "    return exp_X / np.sum(exp_X, axis=1, keepdims=True)\n"
      ]
    },
    {
      "cell_type": "code",
      "execution_count": 13,
      "metadata": {
        "id": "qaxEcEDwCVtv"
      },
      "outputs": [],
      "source": [
        "def forward(sae, X):\n",
        "    h = np.dot(X, sae.W2)\n",
        "    X_hat = np.dot(h, sae.Wx)\n",
        "    z = np.dot(h, sae.Wy)\n",
        "    Y_hat = softmax(z)\n",
        "    return X_hat, Y_hat"
      ]
    },
    {
      "cell_type": "code",
      "execution_count": 14,
      "metadata": {
        "id": "IWmxaEZke_XQ"
      },
      "outputs": [],
      "source": [
        "def oneHotMax(X):\n",
        "    def _inner(a):\n",
        "        idx = np.argmax(a)\n",
        "        out = np.zeros_like(a, dtype=int)\n",
        "        out[idx] = 1\n",
        "        return out\n",
        "\n",
        "    # Apply _inner function to each row of the matrix\n",
        "    return np.vstack([_inner(row) for row in X])\n"
      ]
    },
    {
      "cell_type": "markdown",
      "metadata": {
        "id": "nGD3AkEgfNuS"
      },
      "source": [
        "## Gradient Computation\n",
        "In this section, we will implement the gradient of the SAE loss function. The loss function is defined at the beginning of the _Supervised Autoencoders_ section.\n"
      ]
    },
    {
      "cell_type": "code",
      "execution_count": 17,
      "metadata": {
        "id": "0IXY-TZ5fHab"
      },
      "outputs": [],
      "source": [
        "def gradient(sae, params, X, Y):\n",
        "    # Compute the gradient of the SAE parameters given inputs (X, Y)\n",
        "\n",
        "    h = np.dot(X, sae.W2)\n",
        "\n",
        "    # samples x features matrix\n",
        "    X_hat = np.dot(h, sae.Wx)\n",
        "\n",
        "    # samples x outputs matrix\n",
        "    z = np.dot(h, sae.Wy)\n",
        "    Y_hat = softmax(z)\n",
        "\n",
        "    # Gradient for the Wx head\n",
        "    delta_wx = params.β * (X_hat - X)  # (samples, features)\n",
        "    grad_Wx = np.dot(h.T, delta_wx)  # (hidden, features)\n",
        "\n",
        "\n",
        "    ### BEGIN SOLUTION\n",
        "\n",
        "    # Gradient for the Wy head\n",
        "    delta_wy = (Y_hat - Y)\n",
        "    grad_Wy = np.dot(h.T, delta_wy)\n",
        "\n",
        "\t  ### END SOLUTION\n",
        "\n",
        "\n",
        "\n",
        "    ### BEGIN SOLUTION\n",
        "    # Gradient for W2\n",
        "    delta_h = np.dot(delta_wx, sae.Wx.T) + np.dot(delta_wy, sae.Wy.T)\n",
        "    grad_W2 = np.dot(X.T, delta_h)\n",
        "\t  ### END SOLUTION\n",
        "\n",
        "    return grad_Wx, grad_Wy, grad_W2\n"
      ]
    },
    {
      "cell_type": "code",
      "execution_count": 18,
      "metadata": {
        "colab": {
          "base_uri": "https://localhost:8080/"
        },
        "id": "j3bFFxbzftbr",
        "outputId": "a660b20b-9f1c-4b89-8da3-9366a563f711"
      },
      "outputs": [
        {
          "name": "stdout",
          "output_type": "stream",
          "text": [
            "Gradient check passed successfully!✅\n"
          ]
        }
      ],
      "source": [
        "# ##############\n",
        "# Test Block\n",
        "# ##############\n",
        "\n",
        "\n",
        "# Let's first double check that you are getting the right shapes\n",
        "sae = SAE(28*28, 128, 10, np.random.RandomState(1))  # Using RandomState as RNG\n",
        "params = SAEParams(0.5, 0.001, 30, 128)\n",
        "\n",
        "# Assuming the toy_x and toy_y are defined somewhere (as input data)\n",
        "delWx, delWy, delW2 = gradient(sae, params, toy_x, toy_y)\n",
        "\n",
        "# Check if the shapes of the gradients are correct\n",
        "assert (delWx.shape == (128, 28*28)) and (delWy.shape == (128, 10)) and (delW2.shape == (28*28, 128)), \"Incorrect shape of the gradient. ❌\"\n",
        "\n",
        "\n",
        "rng = np.random.RandomState(367)\n",
        "\n",
        "sae = SAE(3, 4, 2, np.random.RandomState(2))\n",
        "params = SAEParams(2.0, 0.01, 30, 4)\n",
        "\n",
        "x = np.ones((5, 3))\n",
        "y = rng.binomial(1, 0.5, (5, 2))  # Random binary values for y (Bernoulli distribution)\n",
        "\n",
        "delWx, delWy, delW2 = gradient(sae, params, x, y)\n",
        "\n",
        "# Expected values for the gradients\n",
        "expect_delWx = np.array([\n",
        "    [ 4.54203257,  4.25261002,  5.2015941 ],\n",
        "    [ 2.51137886,  2.35135146,  2.87606336],\n",
        "    [ 1.50355791,  1.40774979,  1.72189385],\n",
        "    [-3.73462787, -3.4966539,  -4.27694386]\n",
        "    ])\n",
        "expect_delWy = np.array([\n",
        "        [-0.61700488, -0.31675102],\n",
        "        [-0.3411541 , -0.17513785],\n",
        "        [-0.20424833, -0.10485471],\n",
        "        [ 0.50732433,  0.26044445]\n",
        "])\n",
        "expect_delW2 = np.array([\n",
        "[ 0.43764503, -1.2914451,   2.0948465,   1.65034573],\n",
        "[ 0.43764503, -1.2914451,   2.0948465,   1.65034573],\n",
        "[ 0.43764503, -1.2914451,   2.0948465,   1.65034573]\n",
        "])\n",
        "\n",
        "# Compare the computed gradients with expected gradients\n",
        "assert np.allclose(delWx, expect_delWx), \"Incorrect values for delWx. ❌\"\n",
        "assert np.allclose(delWy, expect_delWy), \"Incorrect values for delWy. ❌\"\n",
        "assert np.allclose(delW2, expect_delW2), \"Incorrect values for delW2. ❌\"\n",
        "\n",
        "\n",
        "print(\"Gradient check passed successfully!✅\")"
      ]
    },
    {
      "cell_type": "markdown",
      "metadata": {
        "id": "LHBMZRwDAyqH"
      },
      "source": [
        "## Training Loop\n",
        "\n",
        "Here you wil implement the training loop for the SAE, where you do SGD for multiple epochs with a constant stepsize. Remember to randomly shuffle the data for each epoch. Here we simply use vanilla SGD, with 1 sample per update (a mini-batch of size 1) and use a constant stepsize (rather than RMSProp and Adam). The reason we do this is to let you focus on the gradients for the SAE, rather than the additional details of the optimizer. Further, for this model and dataset, this provides sufficiently good performance. Of course, you can always test for yourself the impact of using mini-batches and improved stepsizes. But for your submission please use vanilla SGD."
      ]
    },
    {
      "cell_type": "code",
      "execution_count": 28,
      "metadata": {
        "id": "8oRVoDQPF7FO"
      },
      "outputs": [],
      "source": [
        "def train(X, Y, params, seed):\n",
        "    rng = np.random.RandomState(seed)\n",
        "    samples, features = X.shape\n",
        "    classes = Y.shape[1]\n",
        "\n",
        "    # Build the SAE model with N hidden units\n",
        "    sae = SAE(features, params.hidden, classes, rng)\n",
        "\n",
        "    # Train the model using SGD for params.epochs number of epochs\n",
        "    # Use only a single sample for each iteration (stochastic gradient descent)\n",
        "    # Remember to randomly shuffle the samples for each epoch\n",
        "    for _ in range(params.epochs):\n",
        "        ### BEGIN SOLUTION\n",
        "        # Randomly shuffle the samples using rng permution\n",
        "        sample_indices = rng.permutation(samples)\n",
        "\n",
        "        for sample in sample_indices:\n",
        "\n",
        "\n",
        "            # Get the single sample\n",
        "            x_sample = X[sample].reshape(1,-1)\n",
        "            y_sample = Y[sample]\n",
        "\n",
        "            # Compute the gradients\n",
        "            d_wx, d_wy, d_w2 = gradient(sae, params, x_sample, y_sample)\n",
        "            # Update the weights using gradient descent\n",
        "            sae.Wx -= params.alpha * d_wx\n",
        "            sae.Wy -= params.alpha * d_wy\n",
        "            sae.W2 -= params.alpha * d_w2\n",
        "\n",
        "        ### END SOLUTION\n",
        "\n",
        "    return sae\n"
      ]
    },
    {
      "cell_type": "code",
      "execution_count": 29,
      "metadata": {
        "colab": {
          "base_uri": "https://localhost:8080/"
        },
        "id": "ePvh7X9GIDZ5",
        "outputId": "0eb366ab-7ae5-46b3-86c4-aa12643b89fd"
      },
      "outputs": [
        {
          "name": "stdout",
          "output_type": "stream",
          "text": [
            "Training test passed successfully!✅\n"
          ]
        }
      ],
      "source": [
        "# ##############\n",
        "# Test Block\n",
        "# ##############\n",
        "\n",
        "# Set random seed for reproducibility\n",
        "rng = np.random.RandomState(1234)\n",
        "\n",
        "# Create synthetic data\n",
        "n = 20  # Number of samples\n",
        "d = 5   # Number of features\n",
        "m = 2   # Number of classes\n",
        "\n",
        "# Generate two groups of data with different means\n",
        "X1 = rng.normal(0.0, 1.0, (n // 2, d))\n",
        "X2 = rng.normal(5.0, 1.0, (n // 2, d))\n",
        "\n",
        "# Combine the two groups and shuffle the data\n",
        "X = np.vstack((X1, X2))\n",
        "perm = rng.permutation(n)\n",
        "X = X[perm, :]\n",
        "\n",
        "# Normalize the features\n",
        "X = (X - np.mean(X, axis=0)) / np.std(X, axis=0)\n",
        "\n",
        "# Generate labels (1 for X1, 2 for X2) and one-hot encode them\n",
        "Y = np.hstack((np.ones(n // 2), 2 * np.ones(n // 2)))\n",
        "Y = np.eye(m)[Y.astype(int) - 1]  # One-hot encode the labels\n",
        "\n",
        "# Set hyperparameters\n",
        "params = SAEParams(0.1, 0.1, 10, 10)\n",
        "\n",
        "# Train the model\n",
        "sae = train(X, Y, params, 1234)\n",
        "\n",
        "# Check the learned weights against expected values\n",
        "\n",
        "t1_c = sae.Wx[:2, :]\n",
        "# Checking the first 2 rows of sae.Wx (hidden units x features)\n",
        "t1 = np.allclose(t1_c,\n",
        "  [[-0.0621649, -0.19708555, -0.24813198, -0.14997647, -0.1899449],\n",
        "  [ 0.01971644,  0.12749735,  0.04233966,  0.11630627,  0.15949385]],\n",
        "                  atol=1e-6)\n",
        "\n",
        "t2_c =  sae.Wy[:5, :]\n",
        "# Checking the first 5 rows of sae.Wy (hidden units x output classes)\n",
        "t2 = np.allclose(t2_c,\n",
        "  [[ 0.17618548, -0.10470722],\n",
        "  [ 0.14259881, -0.07685819],\n",
        "  [ 0.15505535, -0.00107455],\n",
        "  [ 0.01042294, -0.11451652],\n",
        "  [ 0.11057633, -0.11528749]],\n",
        "                  atol=1e-6)\n",
        "\n",
        "t3_c= sae.W2[1:3, 4:8]\n",
        "\n",
        "# Checking the first 2 rows of sae.W2 (features x hidden units)\n",
        "t3 = np.allclose(t3_c,\n",
        "  [[ 0.23729971,  0.40224271, -0.147294,    0.09083973],\n",
        "  [ 0.00425958, -0.39550697,  0.16109506, -0.09772874]],\n",
        "                  atol=1e-6)\n",
        "\n",
        "\n",
        "# Check if all tests pass\n",
        "assert t1, \"Incorrect values for Wx. ❌\"\n",
        "assert t2, \"Incorrect values for Wy. ❌\"\n",
        "assert t3, \"Incorrect values for W2. ❌\"\n",
        "\n",
        "print(\"Training test passed successfully!✅\")\n"
      ]
    },
    {
      "cell_type": "markdown",
      "metadata": {
        "id": "ygPHEt9JYHMy"
      },
      "source": [
        "# Evaluating our model\n",
        "\n",
        "Before we can do anything else (tuning hyperparameters, reporting statistics about our model, etc.), we must first decide how our model will be evaluated. In class, we primarily focused on classification accuracy. But other metrics are often used for classification, that better reflect how well the model performed for different classes and if it is skewed towards predicting one class more than others. These metrics can provide a more nuanced picture of the model.\n",
        "\n",
        "To start, we will treat each class separately: for example, what is the true positive rate for the digit 2?\n"
      ]
    },
    {
      "cell_type": "markdown",
      "metadata": {
        "id": "zytUeMS8YMeJ"
      },
      "source": [
        "\n",
        "## True/False Positives/Negatives\n",
        "\n",
        "To begin, let's implement fuctions which count the true/false positives and negatives. A _true positive_ is a prediction that was predicted positive when it has a postive label (which we represent as a 1). A _false positive_ is a prediction that was predicted positive when is has a negative label. A _true negative_ is a prediction that was predicted negative when it has a negative label (which we represent as a 0). A _false negative_ is a prediction that was predicted negative when is has a positive label. We provide the code for true positives. It is your job to complete the rest."
      ]
    },
    {
      "cell_type": "code",
      "execution_count": 44,
      "metadata": {
        "id": "mWZYRu-7IPfR"
      },
      "outputs": [],
      "source": [
        "# True positive\n",
        "def tp(y, y_hat):\n",
        "    return np.sum(y_hat[y == 1])\n",
        "\n",
        "# True negative\n",
        "def tn(y, y_hat):\n",
        "    ### BEGIN SOLUTION\n",
        "    return np.sum((y == 0) & (y_hat == 0))\n",
        "    ### END SOLUTION\n",
        "\n",
        "# False positive\n",
        "def fp(y, y_hat):\n",
        "    ### BEGIN SOLUTION\n",
        "    return np.sum(y_hat[y == 0])\n",
        "    ### END SOLUTION\n",
        "\n",
        "# False negative\n",
        "def fn(y, y_hat):\n",
        "    ### BEGIN SOLUTION\n",
        "    return np.sum((y == 1) & (y_hat == 0))\n",
        "    ### END SOLUTION\n"
      ]
    },
    {
      "cell_type": "code",
      "execution_count": 45,
      "metadata": {
        "colab": {
          "base_uri": "https://localhost:8080/"
        },
        "id": "BV8ewUdZYq-v",
        "outputId": "035d3a63-bf3a-492f-ab2e-5861a451976e"
      },
      "outputs": [
        {
          "name": "stdout",
          "output_type": "stream",
          "text": [
            "Tests passed successfully!✅\n"
          ]
        }
      ],
      "source": [
        "# ##############\n",
        "# Test Block\n",
        "# ##############\n",
        "\n",
        "__y = np.array([1, 0, 0, 1, 0, 1, 1, 0, 0, 1, 0, 0, 0, 1, 1, 1, 0, 1, 0, 1, 1])\n",
        "__y_hat = np.array([0, 0, 1, 0, 1, 1, 0, 1, 1, 1, 1, 0, 1, 1, 0, 0, 0, 0, 0, 0, 0])\n",
        "\n",
        "assert tp(__y, __y_hat) == 3, \"Wrong tp number: ❌\"\n",
        "assert tn(__y, __y_hat) == 4, \"Wrong tn number: ❌\"\n",
        "assert fp(__y, __y_hat) == 6, \"Wrong fp number: ❌\"\n",
        "assert fn(__y, __y_hat) == 8, \"Wrong fn number: ❌\"\n",
        "\n",
        "print(\"Tests passed successfully!✅\")\n"
      ]
    },
    {
      "cell_type": "markdown",
      "metadata": {
        "id": "r3xmNtF_ZjB_"
      },
      "source": [
        "\n",
        "Great! You've implemented four functions to count the number of:\n",
        "\n",
        "* True positives\n",
        "* True negatives\n",
        "* False positives\n",
        "* False negatives\n",
        "\n",
        "## Evaluation criteria\n",
        "\n",
        "Often, we'd like to consider the rates of true positives/negatives and false positives/negatives. Additionally, we often want to consider the accuracy of our predictions as well as the _precision_ and _recall_, which are defined as:\n",
        "\n",
        "$$\n",
        "\\text{Precision: } \\quad pr(y, \\hat y) = \\frac{TP}{TP + FP}\n",
        "$$\n",
        "\n",
        "$$\n",
        "\\text{Recall: } \\quad rc(y, \\hat y) = \\frac{TP}{TP + FN}\n",
        "$$\n",
        "\n",
        "These definitions extend even to the multiclass setting. We can compute the precision and recall for each class. With precision, we get a sense of: when we classified an item as class j, was it actually class j? Precision is high when we are careful about assigning class j to an item. For example, imagine there are 100 samples that are class j. Even if we only label 10 of these as class j and do not incorrectly label any other items as class j, then our Precision = 1 which is maximal (here TP = 10 and FP = 0). Mentally, we can replace the term TP with Correctly-Labeled-as-Class-j and FP with Incorrectly-Labeled-as-Class-j.\n",
        "\n",
        "Recall asks: did we find all the items that were labeled as class j? Recall can be high when precision is low. For example, if we label all items in our dataset as class j, then we would have Recall = 1 (False Negatives = 0). We can think of FN as Incorrectly-Not-Labeled-as-Class-j or Should-Have-Been-Labeled-as-Class-j. If we label everything as class j, then there are no items that Should-Have-Been-Labeled-as-Class-j, since it was already labeled class j. Of course, this labelling will have bad Precision. Ideally, we want to get high Recall and high Precision.\n",
        "\n",
        "Reporting more metrics gives a multi-faceted view on your learned predictor. We will report all of them here, so you can see what they would look like. We have implemented some of the below functions for you: True Positive Rate, Accuracy and Error. It is your job to fill in the rest. Again, you will see checkmarks beside the metrics once they are implemented correctly.\n",
        "\n",
        "* True positive rate\n",
        "* False positive rate\n",
        "* True negative rate\n",
        "* False negative rate\n",
        "* Precision\n",
        "* Recall\n",
        "* Accuracy\n",
        "* Error\n"
      ]
    },
    {
      "cell_type": "code",
      "execution_count": 46,
      "metadata": {
        "id": "bjxInFV8Y86N"
      },
      "outputs": [],
      "source": [
        "# True positive rate (Recall)\n",
        "def tpr(y, y_hat):\n",
        "    return tp(y, y_hat) / (tp(y, y_hat) + fn(y, y_hat))\n",
        "\n",
        "# False positive rate\n",
        "def fpr(y, y_hat):\n",
        "    ### BEGIN SOLUTION\n",
        "    return fp(y, y_hat) / (fp(y, y_hat) + tn(y, y_hat))\n",
        "    ### END SOLUTION\n",
        "\n",
        "# True negative rate\n",
        "def tnr(y, y_hat):\n",
        "    ### BEGIN SOLUTION\n",
        "    return tn(y, y_hat) / (tn(y, y_hat) + fp(y, y_hat))\n",
        "    ### END SOLUTION\n",
        "\n",
        "# False negative rate\n",
        "def fnr(y, y_hat):\n",
        "    ### BEGIN SOLUTION\n",
        "    return fn(y, y_hat) / (fn(y, y_hat) + tp(y, y_hat))\n",
        "    ### END SOLUTION\n",
        "\n",
        "# Precision\n",
        "def pr(y, y_hat):\n",
        "    ### BEGIN SOLUTION\n",
        "    return tp(y, y_hat) / (tp(y, y_hat) + fp(y, y_hat))\n",
        "    ### END SOLUTION\n",
        "\n",
        "# Recall\n",
        "def rc(y, y_hat):\n",
        "    ### BEGIN SOLUTION\n",
        "    return tp(y, y_hat) / (tp(y, y_hat) + fn(y, y_hat))\n",
        "    ### END SOLUTION\n",
        "\n",
        "# Accuracy\n",
        "def accuracy(y, y_hat):\n",
        "    return np.sum(y == y_hat) / len(y)\n",
        "\n",
        "# Error\n",
        "def error(y, y_hat):\n",
        "    return 1 - accuracy(y, y_hat)\n"
      ]
    },
    {
      "cell_type": "code",
      "execution_count": 47,
      "metadata": {
        "colab": {
          "base_uri": "https://localhost:8080/"
        },
        "id": "crXMwLfFaNbT",
        "outputId": "4a69f71a-a65b-41a8-8fb6-fe4e69dc01c6"
      },
      "outputs": [
        {
          "name": "stdout",
          "output_type": "stream",
          "text": [
            "All metrics have passed! ✅\n"
          ]
        }
      ],
      "source": [
        "# ##############\n",
        "# Test Block\n",
        "# ##############\n",
        "\n",
        "assert np.isclose(tpr(__y, __y_hat), 0.2727272727272727),\"True positive rate: ❌\"\n",
        "assert np.isclose(fnr(__y, __y_hat), 0.7272727272727273), \"False positive rate: ❌\"\n",
        "assert np.isclose(tnr(__y, __y_hat), 0.4), \"True negative rate: ❌\"\n",
        "assert np.isclose(fpr(__y, __y_hat), 0.6), \"False negative rate: ❌\"\n",
        "assert np.isclose(pr(__y, __y_hat), 0.3333333333333333), \"Precision: ❌\"\n",
        "assert np.isclose(rc(__y, __y_hat), 0.2727272727272727), \"Recall: ❌\"\n",
        "assert np.isclose(accuracy(__y, __y_hat), 0.3333333333333333), \"Accuracy: ❌\"\n",
        "assert np.isclose(error(__y, __y_hat), 0.6666666666666667), \"Error: ❌\"\n",
        "\n",
        "\n",
        "print(\"All metrics have passed! ✅\")\n"
      ]
    },
    {
      "cell_type": "code",
      "execution_count": 48,
      "metadata": {
        "colab": {
          "base_uri": "https://localhost:8080/",
          "height": 393
        },
        "id": "3fSNxlmjajGr",
        "outputId": "a79a3fed-3597-4a7b-9b3f-7d2661e39c66"
      },
      "outputs": [
        {
          "data": {
            "application/vnd.google.colaboratory.intrinsic+json": {
              "summary": "{\n  \"name\": \"df\",\n  \"rows\": 10,\n  \"fields\": [\n    {\n      \"column\": \"Digit\",\n      \"properties\": {\n        \"dtype\": \"string\",\n        \"num_unique_values\": 10,\n        \"samples\": [\n          \"Eight\",\n          \"One\",\n          \"Five\"\n        ],\n        \"semantic_type\": \"\",\n        \"description\": \"\"\n      }\n    },\n    {\n      \"column\": \"True Positive\",\n      \"properties\": {\n        \"dtype\": \"number\",\n        \"std\": 8,\n        \"min\": 34,\n        \"max\": 61,\n        \"num_unique_values\": 8,\n        \"samples\": [\n          49,\n          45,\n          34\n        ],\n        \"semantic_type\": \"\",\n        \"description\": \"\"\n      }\n    },\n    {\n      \"column\": \"True Negative\",\n      \"properties\": {\n        \"dtype\": \"number\",\n        \"std\": 8,\n        \"min\": 426,\n        \"max\": 457,\n        \"num_unique_values\": 10,\n        \"samples\": [\n          443,\n          449,\n          448\n        ],\n        \"semantic_type\": \"\",\n        \"description\": \"\"\n      }\n    },\n    {\n      \"column\": \"False Positive\",\n      \"properties\": {\n        \"dtype\": \"number\",\n        \"std\": 2,\n        \"min\": 0,\n        \"max\": 8,\n        \"num_unique_values\": 9,\n        \"samples\": [\n          4,\n          1,\n          0\n        ],\n        \"semantic_type\": \"\",\n        \"description\": \"\"\n      }\n    },\n    {\n      \"column\": \"False Negative\",\n      \"properties\": {\n        \"dtype\": \"number\",\n        \"std\": 1,\n        \"min\": 1,\n        \"max\": 7,\n        \"num_unique_values\": 5,\n        \"samples\": [\n          1,\n          3,\n          7\n        ],\n        \"semantic_type\": \"\",\n        \"description\": \"\"\n      }\n    },\n    {\n      \"column\": \"True Positive Rate\",\n      \"properties\": {\n        \"dtype\": \"number\",\n        \"std\": 0.04095455627294038,\n        \"min\": 0.8653846153846154,\n        \"max\": 0.98,\n        \"num_unique_values\": 9,\n        \"samples\": [\n          0.9333333333333333,\n          0.98,\n          0.8653846153846154\n        ],\n        \"semantic_type\": \"\",\n        \"description\": \"\"\n      }\n    },\n    {\n      \"column\": \"False Negative Rate\",\n      \"properties\": {\n        \"dtype\": \"number\",\n        \"std\": 0.040954556272940396,\n        \"min\": 0.02,\n        \"max\": 0.1346153846153846,\n        \"num_unique_values\": 9,\n        \"samples\": [\n          0.06666666666666667,\n          0.02,\n          0.1346153846153846\n        ],\n        \"semantic_type\": \"\",\n        \"description\": \"\"\n      }\n    },\n    {\n      \"column\": \"True Negative Rate\",\n      \"properties\": {\n        \"dtype\": \"number\",\n        \"std\": 0.005850980225835211,\n        \"min\": 0.9815668202764977,\n        \"max\": 1.0,\n        \"num_unique_values\": 10,\n        \"samples\": [\n          0.9888392857142857,\n          0.9977777777777778,\n          1.0\n        ],\n        \"semantic_type\": \"\",\n        \"description\": \"\"\n      }\n    },\n    {\n      \"column\": \"False Positive Rate\",\n      \"properties\": {\n        \"dtype\": \"number\",\n        \"std\": 0.005850980225835209,\n        \"min\": 0.0,\n        \"max\": 0.018433179723502304,\n        \"num_unique_values\": 10,\n        \"samples\": [\n          0.011160714285714286,\n          0.0022222222222222222,\n          0.0\n        ],\n        \"semantic_type\": \"\",\n        \"description\": \"\"\n      }\n    },\n    {\n      \"column\": \"Precision\",\n      \"properties\": {\n        \"dtype\": \"number\",\n        \"std\": 0.04808153606184788,\n        \"min\": 0.85,\n        \"max\": 1.0,\n        \"num_unique_values\": 10,\n        \"samples\": [\n          0.9090909090909091,\n          0.98,\n          1.0\n        ],\n        \"semantic_type\": \"\",\n        \"description\": \"\"\n      }\n    },\n    {\n      \"column\": \"Recall\",\n      \"properties\": {\n        \"dtype\": \"number\",\n        \"std\": 0.04095455627294038,\n        \"min\": 0.8653846153846154,\n        \"max\": 0.98,\n        \"num_unique_values\": 9,\n        \"samples\": [\n          0.9333333333333333,\n          0.98,\n          0.8653846153846154\n        ],\n        \"semantic_type\": \"\",\n        \"description\": \"\"\n      }\n    },\n    {\n      \"column\": \"Accuracy\",\n      \"properties\": {\n        \"dtype\": \"number\",\n        \"std\": 0.006666666666666672,\n        \"min\": 0.974,\n        \"max\": 0.996,\n        \"num_unique_values\": 7,\n        \"samples\": [\n          0.978,\n          0.996,\n          0.99\n        ],\n        \"semantic_type\": \"\",\n        \"description\": \"\"\n      }\n    },\n    {\n      \"column\": \"Error\",\n      \"properties\": {\n        \"dtype\": \"number\",\n        \"std\": 0.006666666666666672,\n        \"min\": 0.0040000000000000036,\n        \"max\": 0.026000000000000023,\n        \"num_unique_values\": 7,\n        \"samples\": [\n          0.02200000000000002,\n          0.0040000000000000036,\n          0.010000000000000009\n        ],\n        \"semantic_type\": \"\",\n        \"description\": \"\"\n      }\n    }\n  ]\n}",
              "type": "dataframe",
              "variable_name": "df"
            },
            "text/html": [
              "\n",
              "  <div id=\"df-b08ad8ef-dbe1-4519-a3cf-163f2632285e\" class=\"colab-df-container\">\n",
              "    <div>\n",
              "<style scoped>\n",
              "    .dataframe tbody tr th:only-of-type {\n",
              "        vertical-align: middle;\n",
              "    }\n",
              "\n",
              "    .dataframe tbody tr th {\n",
              "        vertical-align: top;\n",
              "    }\n",
              "\n",
              "    .dataframe thead th {\n",
              "        text-align: right;\n",
              "    }\n",
              "</style>\n",
              "<table border=\"1\" class=\"dataframe\">\n",
              "  <thead>\n",
              "    <tr style=\"text-align: right;\">\n",
              "      <th></th>\n",
              "      <th>Digit</th>\n",
              "      <th>True Positive</th>\n",
              "      <th>True Negative</th>\n",
              "      <th>False Positive</th>\n",
              "      <th>False Negative</th>\n",
              "      <th>True Positive Rate</th>\n",
              "      <th>False Negative Rate</th>\n",
              "      <th>True Negative Rate</th>\n",
              "      <th>False Positive Rate</th>\n",
              "      <th>Precision</th>\n",
              "      <th>Recall</th>\n",
              "      <th>Accuracy</th>\n",
              "      <th>Error</th>\n",
              "    </tr>\n",
              "  </thead>\n",
              "  <tbody>\n",
              "    <tr>\n",
              "      <th>0</th>\n",
              "      <td>Zero</td>\n",
              "      <td>34</td>\n",
              "      <td>455</td>\n",
              "      <td>6</td>\n",
              "      <td>5</td>\n",
              "      <td>0.871795</td>\n",
              "      <td>0.128205</td>\n",
              "      <td>0.986985</td>\n",
              "      <td>0.013015</td>\n",
              "      <td>0.850000</td>\n",
              "      <td>0.871795</td>\n",
              "      <td>0.978</td>\n",
              "      <td>0.022</td>\n",
              "    </tr>\n",
              "    <tr>\n",
              "      <th>1</th>\n",
              "      <td>One</td>\n",
              "      <td>49</td>\n",
              "      <td>449</td>\n",
              "      <td>1</td>\n",
              "      <td>1</td>\n",
              "      <td>0.980000</td>\n",
              "      <td>0.020000</td>\n",
              "      <td>0.997778</td>\n",
              "      <td>0.002222</td>\n",
              "      <td>0.980000</td>\n",
              "      <td>0.980000</td>\n",
              "      <td>0.996</td>\n",
              "      <td>0.004</td>\n",
              "    </tr>\n",
              "    <tr>\n",
              "      <th>2</th>\n",
              "      <td>Two</td>\n",
              "      <td>47</td>\n",
              "      <td>446</td>\n",
              "      <td>2</td>\n",
              "      <td>5</td>\n",
              "      <td>0.903846</td>\n",
              "      <td>0.096154</td>\n",
              "      <td>0.995536</td>\n",
              "      <td>0.004464</td>\n",
              "      <td>0.959184</td>\n",
              "      <td>0.903846</td>\n",
              "      <td>0.986</td>\n",
              "      <td>0.014</td>\n",
              "    </tr>\n",
              "    <tr>\n",
              "      <th>3</th>\n",
              "      <td>Three</td>\n",
              "      <td>61</td>\n",
              "      <td>426</td>\n",
              "      <td>8</td>\n",
              "      <td>5</td>\n",
              "      <td>0.924242</td>\n",
              "      <td>0.075758</td>\n",
              "      <td>0.981567</td>\n",
              "      <td>0.018433</td>\n",
              "      <td>0.884058</td>\n",
              "      <td>0.924242</td>\n",
              "      <td>0.974</td>\n",
              "      <td>0.026</td>\n",
              "    </tr>\n",
              "    <tr>\n",
              "      <th>4</th>\n",
              "      <td>Four</td>\n",
              "      <td>50</td>\n",
              "      <td>438</td>\n",
              "      <td>7</td>\n",
              "      <td>5</td>\n",
              "      <td>0.909091</td>\n",
              "      <td>0.090909</td>\n",
              "      <td>0.984270</td>\n",
              "      <td>0.015730</td>\n",
              "      <td>0.877193</td>\n",
              "      <td>0.909091</td>\n",
              "      <td>0.976</td>\n",
              "      <td>0.024</td>\n",
              "    </tr>\n",
              "    <tr>\n",
              "      <th>5</th>\n",
              "      <td>Five</td>\n",
              "      <td>45</td>\n",
              "      <td>448</td>\n",
              "      <td>0</td>\n",
              "      <td>7</td>\n",
              "      <td>0.865385</td>\n",
              "      <td>0.134615</td>\n",
              "      <td>1.000000</td>\n",
              "      <td>0.000000</td>\n",
              "      <td>1.000000</td>\n",
              "      <td>0.865385</td>\n",
              "      <td>0.986</td>\n",
              "      <td>0.014</td>\n",
              "    </tr>\n",
              "    <tr>\n",
              "      <th>6</th>\n",
              "      <td>Six</td>\n",
              "      <td>48</td>\n",
              "      <td>447</td>\n",
              "      <td>3</td>\n",
              "      <td>2</td>\n",
              "      <td>0.960000</td>\n",
              "      <td>0.040000</td>\n",
              "      <td>0.993333</td>\n",
              "      <td>0.006667</td>\n",
              "      <td>0.941176</td>\n",
              "      <td>0.960000</td>\n",
              "      <td>0.990</td>\n",
              "      <td>0.010</td>\n",
              "    </tr>\n",
              "    <tr>\n",
              "      <th>7</th>\n",
              "      <td>Seven</td>\n",
              "      <td>42</td>\n",
              "      <td>451</td>\n",
              "      <td>4</td>\n",
              "      <td>3</td>\n",
              "      <td>0.933333</td>\n",
              "      <td>0.066667</td>\n",
              "      <td>0.991209</td>\n",
              "      <td>0.008791</td>\n",
              "      <td>0.913043</td>\n",
              "      <td>0.933333</td>\n",
              "      <td>0.986</td>\n",
              "      <td>0.014</td>\n",
              "    </tr>\n",
              "    <tr>\n",
              "      <th>8</th>\n",
              "      <td>Eight</td>\n",
              "      <td>50</td>\n",
              "      <td>443</td>\n",
              "      <td>5</td>\n",
              "      <td>2</td>\n",
              "      <td>0.961538</td>\n",
              "      <td>0.038462</td>\n",
              "      <td>0.988839</td>\n",
              "      <td>0.011161</td>\n",
              "      <td>0.909091</td>\n",
              "      <td>0.961538</td>\n",
              "      <td>0.986</td>\n",
              "      <td>0.014</td>\n",
              "    </tr>\n",
              "    <tr>\n",
              "      <th>9</th>\n",
              "      <td>Nine</td>\n",
              "      <td>34</td>\n",
              "      <td>457</td>\n",
              "      <td>4</td>\n",
              "      <td>5</td>\n",
              "      <td>0.871795</td>\n",
              "      <td>0.128205</td>\n",
              "      <td>0.991323</td>\n",
              "      <td>0.008677</td>\n",
              "      <td>0.894737</td>\n",
              "      <td>0.871795</td>\n",
              "      <td>0.982</td>\n",
              "      <td>0.018</td>\n",
              "    </tr>\n",
              "  </tbody>\n",
              "</table>\n",
              "</div>\n",
              "    <div class=\"colab-df-buttons\">\n",
              "\n",
              "  <div class=\"colab-df-container\">\n",
              "    <button class=\"colab-df-convert\" onclick=\"convertToInteractive('df-b08ad8ef-dbe1-4519-a3cf-163f2632285e')\"\n",
              "            title=\"Convert this dataframe to an interactive table.\"\n",
              "            style=\"display:none;\">\n",
              "\n",
              "  <svg xmlns=\"http://www.w3.org/2000/svg\" height=\"24px\" viewBox=\"0 -960 960 960\">\n",
              "    <path d=\"M120-120v-720h720v720H120Zm60-500h600v-160H180v160Zm220 220h160v-160H400v160Zm0 220h160v-160H400v160ZM180-400h160v-160H180v160Zm440 0h160v-160H620v160ZM180-180h160v-160H180v160Zm440 0h160v-160H620v160Z\"/>\n",
              "  </svg>\n",
              "    </button>\n",
              "\n",
              "  <style>\n",
              "    .colab-df-container {\n",
              "      display:flex;\n",
              "      gap: 12px;\n",
              "    }\n",
              "\n",
              "    .colab-df-convert {\n",
              "      background-color: #E8F0FE;\n",
              "      border: none;\n",
              "      border-radius: 50%;\n",
              "      cursor: pointer;\n",
              "      display: none;\n",
              "      fill: #1967D2;\n",
              "      height: 32px;\n",
              "      padding: 0 0 0 0;\n",
              "      width: 32px;\n",
              "    }\n",
              "\n",
              "    .colab-df-convert:hover {\n",
              "      background-color: #E2EBFA;\n",
              "      box-shadow: 0px 1px 2px rgba(60, 64, 67, 0.3), 0px 1px 3px 1px rgba(60, 64, 67, 0.15);\n",
              "      fill: #174EA6;\n",
              "    }\n",
              "\n",
              "    .colab-df-buttons div {\n",
              "      margin-bottom: 4px;\n",
              "    }\n",
              "\n",
              "    [theme=dark] .colab-df-convert {\n",
              "      background-color: #3B4455;\n",
              "      fill: #D2E3FC;\n",
              "    }\n",
              "\n",
              "    [theme=dark] .colab-df-convert:hover {\n",
              "      background-color: #434B5C;\n",
              "      box-shadow: 0px 1px 3px 1px rgba(0, 0, 0, 0.15);\n",
              "      filter: drop-shadow(0px 1px 2px rgba(0, 0, 0, 0.3));\n",
              "      fill: #FFFFFF;\n",
              "    }\n",
              "  </style>\n",
              "\n",
              "    <script>\n",
              "      const buttonEl =\n",
              "        document.querySelector('#df-b08ad8ef-dbe1-4519-a3cf-163f2632285e button.colab-df-convert');\n",
              "      buttonEl.style.display =\n",
              "        google.colab.kernel.accessAllowed ? 'block' : 'none';\n",
              "\n",
              "      async function convertToInteractive(key) {\n",
              "        const element = document.querySelector('#df-b08ad8ef-dbe1-4519-a3cf-163f2632285e');\n",
              "        const dataTable =\n",
              "          await google.colab.kernel.invokeFunction('convertToInteractive',\n",
              "                                                    [key], {});\n",
              "        if (!dataTable) return;\n",
              "\n",
              "        const docLinkHtml = 'Like what you see? Visit the ' +\n",
              "          '<a target=\"_blank\" href=https://colab.research.google.com/notebooks/data_table.ipynb>data table notebook</a>'\n",
              "          + ' to learn more about interactive tables.';\n",
              "        element.innerHTML = '';\n",
              "        dataTable['output_type'] = 'display_data';\n",
              "        await google.colab.output.renderOutput(dataTable, element);\n",
              "        const docLink = document.createElement('div');\n",
              "        docLink.innerHTML = docLinkHtml;\n",
              "        element.appendChild(docLink);\n",
              "      }\n",
              "    </script>\n",
              "  </div>\n",
              "\n",
              "\n",
              "<div id=\"df-40322046-d917-4b84-86fe-baf8f1e78f5d\">\n",
              "  <button class=\"colab-df-quickchart\" onclick=\"quickchart('df-40322046-d917-4b84-86fe-baf8f1e78f5d')\"\n",
              "            title=\"Suggest charts\"\n",
              "            style=\"display:none;\">\n",
              "\n",
              "<svg xmlns=\"http://www.w3.org/2000/svg\" height=\"24px\"viewBox=\"0 0 24 24\"\n",
              "     width=\"24px\">\n",
              "    <g>\n",
              "        <path d=\"M19 3H5c-1.1 0-2 .9-2 2v14c0 1.1.9 2 2 2h14c1.1 0 2-.9 2-2V5c0-1.1-.9-2-2-2zM9 17H7v-7h2v7zm4 0h-2V7h2v10zm4 0h-2v-4h2v4z\"/>\n",
              "    </g>\n",
              "</svg>\n",
              "  </button>\n",
              "\n",
              "<style>\n",
              "  .colab-df-quickchart {\n",
              "      --bg-color: #E8F0FE;\n",
              "      --fill-color: #1967D2;\n",
              "      --hover-bg-color: #E2EBFA;\n",
              "      --hover-fill-color: #174EA6;\n",
              "      --disabled-fill-color: #AAA;\n",
              "      --disabled-bg-color: #DDD;\n",
              "  }\n",
              "\n",
              "  [theme=dark] .colab-df-quickchart {\n",
              "      --bg-color: #3B4455;\n",
              "      --fill-color: #D2E3FC;\n",
              "      --hover-bg-color: #434B5C;\n",
              "      --hover-fill-color: #FFFFFF;\n",
              "      --disabled-bg-color: #3B4455;\n",
              "      --disabled-fill-color: #666;\n",
              "  }\n",
              "\n",
              "  .colab-df-quickchart {\n",
              "    background-color: var(--bg-color);\n",
              "    border: none;\n",
              "    border-radius: 50%;\n",
              "    cursor: pointer;\n",
              "    display: none;\n",
              "    fill: var(--fill-color);\n",
              "    height: 32px;\n",
              "    padding: 0;\n",
              "    width: 32px;\n",
              "  }\n",
              "\n",
              "  .colab-df-quickchart:hover {\n",
              "    background-color: var(--hover-bg-color);\n",
              "    box-shadow: 0 1px 2px rgba(60, 64, 67, 0.3), 0 1px 3px 1px rgba(60, 64, 67, 0.15);\n",
              "    fill: var(--button-hover-fill-color);\n",
              "  }\n",
              "\n",
              "  .colab-df-quickchart-complete:disabled,\n",
              "  .colab-df-quickchart-complete:disabled:hover {\n",
              "    background-color: var(--disabled-bg-color);\n",
              "    fill: var(--disabled-fill-color);\n",
              "    box-shadow: none;\n",
              "  }\n",
              "\n",
              "  .colab-df-spinner {\n",
              "    border: 2px solid var(--fill-color);\n",
              "    border-color: transparent;\n",
              "    border-bottom-color: var(--fill-color);\n",
              "    animation:\n",
              "      spin 1s steps(1) infinite;\n",
              "  }\n",
              "\n",
              "  @keyframes spin {\n",
              "    0% {\n",
              "      border-color: transparent;\n",
              "      border-bottom-color: var(--fill-color);\n",
              "      border-left-color: var(--fill-color);\n",
              "    }\n",
              "    20% {\n",
              "      border-color: transparent;\n",
              "      border-left-color: var(--fill-color);\n",
              "      border-top-color: var(--fill-color);\n",
              "    }\n",
              "    30% {\n",
              "      border-color: transparent;\n",
              "      border-left-color: var(--fill-color);\n",
              "      border-top-color: var(--fill-color);\n",
              "      border-right-color: var(--fill-color);\n",
              "    }\n",
              "    40% {\n",
              "      border-color: transparent;\n",
              "      border-right-color: var(--fill-color);\n",
              "      border-top-color: var(--fill-color);\n",
              "    }\n",
              "    60% {\n",
              "      border-color: transparent;\n",
              "      border-right-color: var(--fill-color);\n",
              "    }\n",
              "    80% {\n",
              "      border-color: transparent;\n",
              "      border-right-color: var(--fill-color);\n",
              "      border-bottom-color: var(--fill-color);\n",
              "    }\n",
              "    90% {\n",
              "      border-color: transparent;\n",
              "      border-bottom-color: var(--fill-color);\n",
              "    }\n",
              "  }\n",
              "</style>\n",
              "\n",
              "  <script>\n",
              "    async function quickchart(key) {\n",
              "      const quickchartButtonEl =\n",
              "        document.querySelector('#' + key + ' button');\n",
              "      quickchartButtonEl.disabled = true;  // To prevent multiple clicks.\n",
              "      quickchartButtonEl.classList.add('colab-df-spinner');\n",
              "      try {\n",
              "        const charts = await google.colab.kernel.invokeFunction(\n",
              "            'suggestCharts', [key], {});\n",
              "      } catch (error) {\n",
              "        console.error('Error during call to suggestCharts:', error);\n",
              "      }\n",
              "      quickchartButtonEl.classList.remove('colab-df-spinner');\n",
              "      quickchartButtonEl.classList.add('colab-df-quickchart-complete');\n",
              "    }\n",
              "    (() => {\n",
              "      let quickchartButtonEl =\n",
              "        document.querySelector('#df-40322046-d917-4b84-86fe-baf8f1e78f5d button');\n",
              "      quickchartButtonEl.style.display =\n",
              "        google.colab.kernel.accessAllowed ? 'block' : 'none';\n",
              "    })();\n",
              "  </script>\n",
              "</div>\n",
              "\n",
              "  <div id=\"id_db2e41d0-086b-41a6-89ab-c151ae828f16\">\n",
              "    <style>\n",
              "      .colab-df-generate {\n",
              "        background-color: #E8F0FE;\n",
              "        border: none;\n",
              "        border-radius: 50%;\n",
              "        cursor: pointer;\n",
              "        display: none;\n",
              "        fill: #1967D2;\n",
              "        height: 32px;\n",
              "        padding: 0 0 0 0;\n",
              "        width: 32px;\n",
              "      }\n",
              "\n",
              "      .colab-df-generate:hover {\n",
              "        background-color: #E2EBFA;\n",
              "        box-shadow: 0px 1px 2px rgba(60, 64, 67, 0.3), 0px 1px 3px 1px rgba(60, 64, 67, 0.15);\n",
              "        fill: #174EA6;\n",
              "      }\n",
              "\n",
              "      [theme=dark] .colab-df-generate {\n",
              "        background-color: #3B4455;\n",
              "        fill: #D2E3FC;\n",
              "      }\n",
              "\n",
              "      [theme=dark] .colab-df-generate:hover {\n",
              "        background-color: #434B5C;\n",
              "        box-shadow: 0px 1px 3px 1px rgba(0, 0, 0, 0.15);\n",
              "        filter: drop-shadow(0px 1px 2px rgba(0, 0, 0, 0.3));\n",
              "        fill: #FFFFFF;\n",
              "      }\n",
              "    </style>\n",
              "    <button class=\"colab-df-generate\" onclick=\"generateWithVariable('df')\"\n",
              "            title=\"Generate code using this dataframe.\"\n",
              "            style=\"display:none;\">\n",
              "\n",
              "  <svg xmlns=\"http://www.w3.org/2000/svg\" height=\"24px\"viewBox=\"0 0 24 24\"\n",
              "       width=\"24px\">\n",
              "    <path d=\"M7,19H8.4L18.45,9,17,7.55,7,17.6ZM5,21V16.75L18.45,3.32a2,2,0,0,1,2.83,0l1.4,1.43a1.91,1.91,0,0,1,.58,1.4,1.91,1.91,0,0,1-.58,1.4L9.25,21ZM18.45,9,17,7.55Zm-12,3A5.31,5.31,0,0,0,4.9,8.1,5.31,5.31,0,0,0,1,6.5,5.31,5.31,0,0,0,4.9,4.9,5.31,5.31,0,0,0,6.5,1,5.31,5.31,0,0,0,8.1,4.9,5.31,5.31,0,0,0,12,6.5,5.46,5.46,0,0,0,6.5,12Z\"/>\n",
              "  </svg>\n",
              "    </button>\n",
              "    <script>\n",
              "      (() => {\n",
              "      const buttonEl =\n",
              "        document.querySelector('#id_db2e41d0-086b-41a6-89ab-c151ae828f16 button.colab-df-generate');\n",
              "      buttonEl.style.display =\n",
              "        google.colab.kernel.accessAllowed ? 'block' : 'none';\n",
              "\n",
              "      buttonEl.onclick = () => {\n",
              "        google.colab.notebook.generateWithVariable('df');\n",
              "      }\n",
              "      })();\n",
              "    </script>\n",
              "  </div>\n",
              "\n",
              "    </div>\n",
              "  </div>\n"
            ],
            "text/plain": [
              "   Digit  True Positive  True Negative  False Positive  False Negative  True Positive Rate  \\\n",
              "0   Zero             34            455               6               5            0.871795   \n",
              "1    One             49            449               1               1            0.980000   \n",
              "2    Two             47            446               2               5            0.903846   \n",
              "3  Three             61            426               8               5            0.924242   \n",
              "4   Four             50            438               7               5            0.909091   \n",
              "5   Five             45            448               0               7            0.865385   \n",
              "6    Six             48            447               3               2            0.960000   \n",
              "7  Seven             42            451               4               3            0.933333   \n",
              "8  Eight             50            443               5               2            0.961538   \n",
              "9   Nine             34            457               4               5            0.871795   \n",
              "\n",
              "   False Negative Rate  True Negative Rate  False Positive Rate  Precision    Recall  Accuracy  \\\n",
              "0             0.128205            0.986985             0.013015   0.850000  0.871795     0.978   \n",
              "1             0.020000            0.997778             0.002222   0.980000  0.980000     0.996   \n",
              "2             0.096154            0.995536             0.004464   0.959184  0.903846     0.986   \n",
              "3             0.075758            0.981567             0.018433   0.884058  0.924242     0.974   \n",
              "4             0.090909            0.984270             0.015730   0.877193  0.909091     0.976   \n",
              "5             0.134615            1.000000             0.000000   1.000000  0.865385     0.986   \n",
              "6             0.040000            0.993333             0.006667   0.941176  0.960000     0.990   \n",
              "7             0.066667            0.991209             0.008791   0.913043  0.933333     0.986   \n",
              "8             0.038462            0.988839             0.011161   0.909091  0.961538     0.986   \n",
              "9             0.128205            0.991323             0.008677   0.894737  0.871795     0.982   \n",
              "\n",
              "   Error  \n",
              "0  0.022  \n",
              "1  0.004  \n",
              "2  0.014  \n",
              "3  0.026  \n",
              "4  0.024  \n",
              "5  0.014  \n",
              "6  0.010  \n",
              "7  0.014  \n",
              "8  0.014  \n",
              "9  0.018  "
            ]
          },
          "metadata": {},
          "output_type": "display_data"
        }
      ],
      "source": [
        "# Initialize parameters for SAE\n",
        "params = SAEParams(0.5, 0.01, 5, 16)\n",
        "\n",
        "sae = train(toy_x, toy_y, params, 0)\n",
        "\n",
        "# Forward pass to get predictions\n",
        "_, Y_hat = forward(sae, toy_x)\n",
        "\n",
        "\n",
        "# Convert probabilities to one-hot encoding by maximizing predictions\n",
        "Y_hat = oneHotMax(Y_hat)\n",
        "\n",
        "\n",
        "# Initialize arrays to hold the metrics for each class (10 classes)\n",
        "col_tp = np.zeros(10, dtype=int)\n",
        "col_tn = np.zeros(10, dtype=int)\n",
        "col_fp = np.zeros(10, dtype=int)\n",
        "col_fn = np.zeros(10, dtype=int)\n",
        "col_tpr = np.zeros(10)\n",
        "col_fnr = np.zeros(10)\n",
        "col_tnr = np.zeros(10)\n",
        "col_fpr = np.zeros(10)\n",
        "col_pr = np.zeros(10)\n",
        "col_rc = np.zeros(10)\n",
        "col_acc = np.zeros(10)\n",
        "col_err = np.zeros(10)\n",
        "\n",
        "# Labels for each digit\n",
        "labels = [\"Zero\", \"One\", \"Two\", \"Three\", \"Four\", \"Five\", \"Six\", \"Seven\", \"Eight\", \"Nine\"]\n",
        "\n",
        "# Loop through each class (0 to 9) and calculate metrics\n",
        "for class_idx in range(10):\n",
        "    col_tp[class_idx] = tp(toy_y[:, class_idx], Y_hat[:, class_idx])\n",
        "    col_tn[class_idx] = tn(toy_y[:, class_idx], Y_hat[:, class_idx])\n",
        "    col_fp[class_idx] = fp(toy_y[:, class_idx], Y_hat[:, class_idx])\n",
        "    col_fn[class_idx] = fn(toy_y[:, class_idx], Y_hat[:, class_idx])\n",
        "    col_tpr[class_idx] = tpr(toy_y[:, class_idx], Y_hat[:, class_idx])\n",
        "    col_fnr[class_idx] = fnr(toy_y[:, class_idx], Y_hat[:, class_idx])\n",
        "    col_tnr[class_idx] = tnr(toy_y[:, class_idx], Y_hat[:, class_idx])\n",
        "    col_fpr[class_idx] = fpr(toy_y[:, class_idx], Y_hat[:, class_idx])\n",
        "    col_pr[class_idx] = pr(toy_y[:, class_idx], Y_hat[:, class_idx])\n",
        "    col_rc[class_idx] = rc(toy_y[:, class_idx], Y_hat[:, class_idx])\n",
        "    col_acc[class_idx] = accuracy(toy_y[:, class_idx], Y_hat[:, class_idx])\n",
        "    col_err[class_idx] = error(toy_y[:, class_idx], Y_hat[:, class_idx])\n",
        "\n",
        "# Create a DataFrame with the results\n",
        "df = pd.DataFrame({\n",
        "    \"Digit\": labels,\n",
        "    \"True Positive\": col_tp,\n",
        "    \"True Negative\": col_tn,\n",
        "    \"False Positive\": col_fp,\n",
        "    \"False Negative\": col_fn,\n",
        "    \"True Positive Rate\": col_tpr,\n",
        "    \"False Negative Rate\": col_fnr,\n",
        "    \"True Negative Rate\": col_tnr,\n",
        "    \"False Positive Rate\": col_fpr,\n",
        "    \"Precision\": col_pr,\n",
        "    \"Recall\": col_rc,\n",
        "    \"Accuracy\": col_acc,\n",
        "    \"Error\": col_err\n",
        "})\n",
        "\n",
        "# Set display options for better tabular visualization with scrolling\n",
        "pd.set_option('display.max_columns', None)  # Show all columns\n",
        "pd.set_option('display.width', None)        # No wrapping of columns\n",
        "pd.set_option('display.max_rows', None)     # Show all rows\n",
        "pd.set_option('display.max_colwidth', None) # Show all the content without truncating\n",
        "\n",
        "# Display the DataFrame as a proper table\n",
        "display(df)  # For Jupyter notebook or IPython\n",
        "\n"
      ]
    },
    {
      "cell_type": "markdown",
      "metadata": {
        "id": "IU7W57XtJ24z"
      },
      "source": [
        "\n",
        "# **Selecting Hyperparameters**\n",
        "\n",
        "The supervised autoencoder class has 4 hyperparameters that need to be selected (for our implementation).\n",
        "So far we have worked with toy data and a few hardcoded hyperparameters that we know work okay, but now it's time to start tuning our algorithm to get the best performance.\n",
        "\n",
        "## **Internal K-Fold Cross-Validation**\n",
        "In this section, you will implement **internal k-fold cross-validation** to select hyperparameters.\n"
      ]
    },
    {
      "cell_type": "code",
      "execution_count": 49,
      "metadata": {
        "id": "u82ky17KdCls"
      },
      "outputs": [],
      "source": [
        "def generate_param_settings(βs, αs, epochss, hiddens):\n",
        "    # Create the Cartesian product of all parameters\n",
        "    # This produces an iterator over tuples (β, α, epochs, hidden)\n",
        "    param_combinations = product(βs, αs, epochss, hiddens)\n",
        "\n",
        "    # For each tuple, create an SAEParams instance by passing the tuple to the constructor using the vals parameter\n",
        "    return [SAEParams(vals=vals) for vals in param_combinations]\n"
      ]
    },
    {
      "cell_type": "code",
      "execution_count": 50,
      "metadata": {
        "id": "gByeAnqQKy-r"
      },
      "outputs": [],
      "source": [
        "def stack(arr):\n",
        "    \"\"\"\n",
        "    Stacks matrices vertically.\n",
        "    For example, if given matrices with shapes:\n",
        "      A = (10, 23), B = (15, 23), C = (2, 23)\n",
        "    then stack([A, B, C]) returns a (27, 23) matrix.\n",
        "    \"\"\"\n",
        "    return np.vstack(arr)\n",
        "\n",
        "def exclude(arr, idx):\n",
        "    \"\"\"\n",
        "    Returns all elements of a list (or 1D array) except the element at the specified index.\n",
        "    For example, if arr = [a, b, c, d] and idx = 2, this returns [a, b, d].\n",
        "    \"\"\"\n",
        "    return [element for i, element in enumerate(arr) if i != idx]\n"
      ]
    },
    {
      "cell_type": "markdown",
      "metadata": {
        "id": "Dnj1FgSlLnii"
      },
      "source": [
        "\n",
        "We can choose to optimize any of the above metrics that we would like. By default, we have selected $\\verb+accuracy+$. You can try other metrics, if you would like.\n",
        "Below, we use `argmax` when selecting hyperparameters, because we want high accuracy (if we had errors, we would use `argmin`)."
      ]
    },
    {
      "cell_type": "code",
      "execution_count": 51,
      "metadata": {
        "id": "PPC1ye3QLkcl"
      },
      "outputs": [],
      "source": [
        "def metric(sae, X, Y, f=accuracy):\n",
        "    \"\"\"\n",
        "    Compute the average metric (e.g. accuracy) over each class.\n",
        "\n",
        "    Parameters:\n",
        "      sae : the model\n",
        "      X   : input data as a 2D array (samples x features)\n",
        "      Y   : true labels as a 2D array (samples x classes)\n",
        "      f   : a function that computes a metric for two 1D arrays (default: accuracy)\n",
        "\n",
        "    Returns:\n",
        "      The mean of the metric computed for each class.\n",
        "    \"\"\"\n",
        "    # Run forward propagation on the model\n",
        "    # Assume forward(sae, X) returns (unused, Yhat)\n",
        "    _, Yhat = forward(sae, X)\n",
        "\n",
        "    # Apply one_hot_max to Yhat to get one-hot encoded predictions\n",
        "    Yhat = oneHotMax(Yhat)\n",
        "\n",
        "    # Determine the number of classes from Y's shape\n",
        "    classes = Y.shape[1]\n",
        "\n",
        "    # Initialize a metric value for each class\n",
        "    metrics = np.zeros(classes)\n",
        "\n",
        "    # Compute the metric for each class by comparing the true and predicted values column-wise\n",
        "    for class_idx in range(classes):\n",
        "        metrics[class_idx] = f(Y[:, class_idx], Yhat[:, class_idx])\n",
        "\n",
        "    # Return the average metric across classes\n",
        "    return np.mean(metrics)\n"
      ]
    },
    {
      "cell_type": "markdown",
      "metadata": {
        "id": "o35xvx78MKbL"
      },
      "source": [
        "\n",
        "Now you will implement `internal_cross_validation`.\n",
        "Make sure that each of your `k` folds are non-overlapping and that every validation set is used exactly once.\n",
        "We explicitly fix the random seed when training the model.\n",
        "We want to reduce the number of confounding factors while selecting hyperparameters, for instance starting each neural network with the exact same set of weights. That way we are removing one potential source of stochasticity that could give noisier estimates of the performance for a hyperparameter.\n"
      ]
    },
    {
      "cell_type": "code",
      "execution_count": 54,
      "metadata": {
        "id": "cE_INDoaMKO7"
      },
      "outputs": [],
      "source": [
        "def internal_cross_validation(settings, k, X, Y, comparator=accuracy):\n",
        "    \"\"\"\n",
        "    Performs internal cross validation over a list of hyperparameter settings.\n",
        "\n",
        "    Parameters:\n",
        "      settings   : list of SAEParams (or equivalent parameter settings)\n",
        "      k          : number of folds to use for cross validation\n",
        "      X          : input data (NumPy array of shape (samples, features))\n",
        "      Y          : true labels (NumPy array of shape (samples, classes))\n",
        "      comparator : function to compute a metric (default is accuracy)\n",
        "\n",
        "    Returns:\n",
        "      best_params: the hyperparameter setting (from settings) that achieves the best average metric\n",
        "    \"\"\"\n",
        "    # Partition the data into k folds without shuffling\n",
        "    Xs = []\n",
        "    Ys = []\n",
        "\n",
        "    ### BEGIN SOLUTION\n",
        "    # Note: If `samples` is not perfectly divisible by `k`, some leftover samples (samples % k)\n",
        "    # at the end of `X` will not be assigned to any fold, and will always be a part of the training set.\n",
        "\n",
        "    n_samples = X.shape[0]\n",
        "    fold_size = n_samples // k\n",
        "    for i in range(k):\n",
        "        start = i * fold_size\n",
        "        end = (i + 1) * fold_size\n",
        "        Xs.append(X[start:end])\n",
        "        Ys.append(Y[start:end])\n",
        "\n",
        "    ### END SOLUTION\n",
        "\n",
        "    # Use a fixed seed so every hyperparameter setting sees the same random seed\n",
        "    seed = 0\n",
        "\n",
        "    average_metrics = np.zeros(len(settings))\n",
        "\n",
        "    ### BEGIN SOLUTION\n",
        "    # Evaluate each parameter setting using k-fold cross validation\n",
        "    for idx, params in enumerate(settings):\n",
        "\n",
        "        metrics = []\n",
        "\n",
        "        for fold in range(k):\n",
        "            # Create training data by stacking all folds except the current one\n",
        "            X_train = stack(exclude(Xs, fold))\n",
        "            Y_train = stack(exclude(Ys, fold))\n",
        "\n",
        "            # Create validation data by using the current fold\n",
        "            X_val = Xs[fold]\n",
        "            Y_val = Ys[fold]\n",
        "\n",
        "            # Train the model with the given parameter settings and seed\n",
        "            sae = train(X_train, Y_train, params, seed)\n",
        "\n",
        "            # Compute the metric on the validation set\n",
        "            metrics.append(metric(sae, X_val, Y_val, comparator))\n",
        "\n",
        "        # Store the average metric for the current parameter setting\n",
        "        average_metrics[idx] = np.mean(metrics)\n",
        "    ### END SOLUTION\n",
        "\n",
        "\n",
        "    best_idx = np.argmax(average_metrics)\n",
        "    best_params = settings[best_idx]\n",
        "    return best_params\n"
      ]
    },
    {
      "cell_type": "code",
      "execution_count": 55,
      "metadata": {
        "colab": {
          "base_uri": "https://localhost:8080/"
        },
        "id": "aeW2MuOUNQhK",
        "outputId": "7980bc1e-cc53-4880-b0a6-dc38ff8193e1"
      },
      "outputs": [
        {
          "name": "stderr",
          "output_type": "stream",
          "text": [
            "<ipython-input-12-59eeedf1b78c>:2: RuntimeWarning: overflow encountered in exp\n",
            "  exp_X = np.exp(X)\n",
            "<ipython-input-12-59eeedf1b78c>:3: RuntimeWarning: invalid value encountered in divide\n",
            "  return exp_X / np.sum(exp_X, axis=1, keepdims=True)\n"
          ]
        },
        {
          "name": "stdout",
          "output_type": "stream",
          "text": [
            "Internal cross validation test passed: ✅\n"
          ]
        }
      ],
      "source": [
        "# #####################\n",
        "# Test Block\n",
        "# #####################\n",
        "\n",
        "# Test block for internal cross validation\n",
        "\n",
        "np.random.seed(367)\n",
        "\n",
        "# Generate the hyperparameter settings.\n",
        "settings = generate_param_settings([100, 1., 0.1],\n",
        "                                    [0.001, 0.1],\n",
        "                                    [1, 3, 5, 7],\n",
        "                                    [2, 4, 6, 8])\n",
        "\n",
        "# Generate synthetic data:\n",
        "# __x is a 100 x 3 matrix drawn from Normal(0, 3)\n",
        "__x = np.random.normal(0, 3, size=(100, 3))\n",
        "# __y is a 100 x 2 matrix where each entry is drawn from a Bernoulli(0.5)\n",
        "__y = np.random.binomial(1, 0.5, size=(100, 2)).astype(np.float32)\n",
        "\n",
        "# Perform internal cross validation using 3 folds.\n",
        "got = internal_cross_validation(settings, 3, __x, __y, comparator=accuracy)\n",
        "\n",
        "# The expected best parameter\n",
        "expected = SAEParams(0.1, 0.1 , 3, 4)\n",
        "\n",
        "# Check if the returned parameter settings match the expected one.\n",
        "# (Assuming SAEParams does not implement __eq__, we compare fields manually.)\n",
        "is_equal = (got.β == expected.β and\n",
        "            got.alpha == expected.alpha and\n",
        "            got.epochs == expected.epochs and\n",
        "            got.hidden == expected.hidden)\n",
        "\n",
        "\n",
        "assert got.β == expected.β, \"Wrong value for β: ❌\"\n",
        "assert got.alpha == expected.alpha, \"Wrong value for alpha: ❌\"\n",
        "assert got.epochs == expected.epochs, \"Wrong value for epochs: ❌\"\n",
        "assert got.hidden == expected.hidden, \"Wrong value for hidden: ❌\"\n",
        "\n",
        "\n",
        "print(\"Internal cross validation test passed: ✅\")\n"
      ]
    },
    {
      "cell_type": "markdown",
      "metadata": {
        "id": "vTcJ_uUuPjEh"
      },
      "source": [
        "If all went well with your cross-validation code, then it will pass our tests and you should see a happy check mark above.\n",
        "\n",
        "Now, let's run internal CV on our small MNIST dataset, to see which hyperparameter settings are picked."
      ]
    },
    {
      "cell_type": "code",
      "execution_count": 56,
      "metadata": {
        "colab": {
          "base_uri": "https://localhost:8080/"
        },
        "id": "cSrOTMIJOv9n",
        "outputId": "fcebaea3-6523-4f90-8b23-e418edb9f0c5"
      },
      "outputs": [
        {
          "name": "stdout",
          "output_type": "stream",
          "text": [
            "Best toy parameter setting:\n",
            "Best β 0.1\n",
            "Best alpha 0.01\n",
            "Best number epochs 2\n",
            "Best number of hidden units 16\n"
          ]
        }
      ],
      "source": [
        "# Note: This cell may take several seconds to complete (e.g., ~30 seconds)\n",
        "\n",
        "# Generate the hyperparameter settings.\n",
        "settings = generate_param_settings(\n",
        "    [1.0, 0.1],    # betas\n",
        "    [0.01, 0.001], # alphas\n",
        "    [2],           # epochs\n",
        "    [16, 32]       # hidden units\n",
        ")\n",
        "\n",
        "# Of these parameter settings, let's see which one is the best on our small dataset.\n",
        "# Note: This is only for a few hundred samples. Imagine running this for bigger models and datasets.\n",
        "# Feel free to change the `comparator` parameter to try other metrics.\n",
        "best_toy_param = internal_cross_validation(settings, 4, toy_x, toy_y, comparator=accuracy)\n",
        "\n",
        "# Optionally, you can print the result to inspect the best parameter setting.\n",
        "print(\"Best toy parameter setting:\")\n",
        "print(\"Best β\", best_toy_param.β)\n",
        "print(\"Best alpha\", best_toy_param.alpha)\n",
        "print(\"Best number epochs\", best_toy_param.epochs)\n",
        "print(\"Best number of hidden units\", best_toy_param.hidden)\n",
        "\n"
      ]
    },
    {
      "cell_type": "markdown",
      "metadata": {
        "id": "OpJtE9aeQ3Q7"
      },
      "source": [
        "# **Evaluating Generalization Error**\n",
        "\n",
        "Internal CV was used above to select hyperparameters $\\verb+best-hypers+$ for the SAE. The model f learned with SAE+best-hypers on the entire dataset is the final model that we want to deploy. However, before deploying, we want to get a sense of its generalization performance (classification accuracy in deployment). In the notes we discussed using external CV, where we would split up the dataset into train/validate pairs like above, and then call SAE+internal CV on these train/validate pairs. This is called nested cross-validation: we have nested for loops where in the outer loop we iterate over the splits from external CV, and inside when we call SAE+internal CV, it splits the data further into multiple folds and loops over all hypers and those partitionings.\n",
        "\n",
        "Unfortunately, this is very expensive. And already running on this MNIST dataset can take a bit too much compute for a student laptop. So, we are going to do a standard approximation used in practice, where we do a two-stage approach (see the notes for why this is more biased and can cause an overly optimistic estimate). Instead of using nest cross-validation to properly evaluate f, we will instead just call cross-validation on SAE+best-hypers. To implement cross-validation to evaluate SAE+best-hypers, we will use repeated random sampling (RRS). The main reason we use RRS instead of k-fold for our external CV is because it actually helps reduce bias a little bit from this un-nested procedure, and because it lets you implement the other way approach we discussed to generated partitions for CV. We will report the average and standard error of our accuracy across these partitions.\n",
        "\n",
        "A few notes:\n",
        " * The train/test sets must be non-overlapping\n",
        " * Each train/test split needs to be sampled randomly `k` times\n",
        " * You should use `train_percent` percentage of the samples in the train set, and the remainder in the test set (i.e. if `train_percent=0.9`, then 90% of the samples are training samples and 10% are testing samples)"
      ]
    },
    {
      "cell_type": "code",
      "execution_count": 58,
      "metadata": {
        "id": "wNyjOw-uQuXD"
      },
      "outputs": [],
      "source": [
        "def repeated_random_sampling(params, X, Y, k, train_percent, rng, comparator=accuracy):\n",
        "    \"\"\"\n",
        "    Performs repeated random sampling cross validation.\n",
        "\n",
        "    Parameters:\n",
        "      params        : SAEParams instance containing hyperparameters.\n",
        "      X             : NumPy array of shape (samples, features).\n",
        "      Y             : NumPy array of shape (samples, classes).\n",
        "      k             : Number of repetitions.\n",
        "      train_percent : Fraction (float) of data to use for training.\n",
        "      rng           : A NumPy random generator (e.g., np.random.default_rng(seed)).\n",
        "      comparator    : A metric function (default: accuracy).\n",
        "\n",
        "    Returns:\n",
        "      A tuple (mean_metric, std_error) where:\n",
        "        - mean_metric is the average metric across the k folds,\n",
        "        - std_error is the standard error (std / sqrt(k)).\n",
        "    \"\"\"\n",
        "    samples = X.shape[0]\n",
        "    train_samples = int(np.floor(samples * train_percent))\n",
        "\n",
        "    # Ensure consistent initialization across folds.\n",
        "    seed = 0\n",
        "\n",
        "    metrics = np.zeros(k)\n",
        "\n",
        "\n",
        "    for fold in range(k):\n",
        "        print(\"rrs\", fold + 1, k)\n",
        "\n",
        "        idxs = rng.permutation(samples)\n",
        "\n",
        "        ### BEGIN SOLUTION\n",
        "\n",
        "        # Rearrange X and Y according to the shuffled indices.\n",
        "        X_r = X[idxs]\n",
        "        Y_r = Y[idxs]\n",
        "\n",
        "        # Split into training and test sets.\n",
        "        X_train = X_r[:train_samples]\n",
        "        Y_train = Y_r[:train_samples]\n",
        "        X_test = X_r[train_samples:]\n",
        "        Y_test = Y_r[train_samples:]\n",
        "\n",
        "\n",
        "        # Train the model using the given parameters and fixed seed.\n",
        "        sae = train(X_train, Y_train, params, seed)\n",
        "\n",
        "        # Compute the metric on the test set.\n",
        "        metrics[fold] = metric(sae, X_test, Y_test, comparator)\n",
        "\n",
        "        ### END SOLUTION\n",
        "\n",
        "    # Return the mean metric and the standard error.\n",
        "    return np.mean(metrics), np.std(metrics) / np.sqrt(k)\n"
      ]
    },
    {
      "cell_type": "code",
      "execution_count": 59,
      "metadata": {
        "colab": {
          "base_uri": "https://localhost:8080/"
        },
        "id": "UNg0FIqhHawV",
        "outputId": "f5ccddc8-b5c6-451b-a940-ee8e396bb3a9"
      },
      "outputs": [
        {
          "name": "stdout",
          "output_type": "stream",
          "text": [
            "rrs 1 9\n",
            "rrs 2 9\n",
            "rrs 3 9\n",
            "rrs 4 9\n",
            "rrs 5 9\n",
            "rrs 6 9\n",
            "rrs 7 9\n",
            "rrs 8 9\n",
            "rrs 9 9\n",
            "0.5489144316730523 0.004963164458676772\n",
            "Repeated random sampling test passed:.✅\n"
          ]
        }
      ],
      "source": [
        "# Create the parameter setting\n",
        "params = SAEParams(0.1, 0.001, 2, 10)\n",
        "\n",
        "# Create a random generator with seed 1\n",
        "rng = np.random.default_rng(1)\n",
        "\n",
        "# Generate synthetic data:\n",
        "# X: 500 x 30 matrix drawn from a Normal distribution with mean=1 and std=20\n",
        "X = rng.normal(loc=1, scale=10, size=(500, 30))\n",
        "# Y: 500 x 3 matrix with entries drawn from a Bernoulli(0.4) distribution\n",
        "Y = rng.binomial(n=1, p=0.4, size=(500, 3)).astype(np.float32)\n",
        "\n",
        "# Run repeated random sampling cross validation with 9 repetitions,\n",
        "# using 42% of the samples for training.\n",
        "acc, stderr = repeated_random_sampling(params, X, Y, 9, 0.42, rng, comparator=accuracy)\n",
        "\n",
        "print(acc, stderr)\n",
        "# Return True if the accuracy is at least 0.5 and the standard error is <= 0.01.\n",
        "assert acc >= 0.5 and stderr <= 0.01, \"Repeated random sampling test failed: ❌\"\n",
        "\n",
        "print(\"Repeated random sampling test passed:.✅\")\n"
      ]
    },
    {
      "cell_type": "markdown",
      "metadata": {
        "id": "HGDIegSVYpMx"
      },
      "source": [
        "Does RRS report the correct accuracy and standard error on a small toy dataset?"
      ]
    },
    {
      "cell_type": "code",
      "execution_count": 60,
      "metadata": {
        "colab": {
          "base_uri": "https://localhost:8080/"
        },
        "id": "GOch6PvpH_l0",
        "outputId": "851989b2-c174-4b22-c8fe-ecb7430aaf1e"
      },
      "outputs": [
        {
          "name": "stdout",
          "output_type": "stream",
          "text": [
            "rrs 1 10\n",
            "rrs 2 10\n",
            "rrs 3 10\n",
            "rrs 4 10\n",
            "rrs 5 10\n",
            "rrs 6 10\n",
            "rrs 7 10\n",
            "rrs 8 10\n",
            "rrs 9 10\n",
            "rrs 10 10\n",
            "Accuracy: 0.952 Std Error: 0.005986651818838314\n"
          ]
        }
      ],
      "source": [
        "# Create a random generator with seed 3\n",
        "rng = np.random.default_rng(3)\n",
        "\n",
        "# Call repeated_random_sampling with 10 repetitions and a training fraction of 0.90.\n",
        "result = repeated_random_sampling(best_toy_param, toy_x, toy_y, 10, 0.90, rng)\n",
        "\n",
        "print(\"Accuracy:\", result[0], \"Std Error:\", result[1])"
      ]
    },
    {
      "cell_type": "markdown",
      "metadata": {
        "id": "oUTy_IKAZOFk"
      },
      "source": [
        "# Putting it all together\n",
        "\n",
        "Finally, we will run the SAE with internal CV to get best-hypers on the full MNIST dataset and then run external CV to evaluate the model learned with those hypers. If you want to examine other metrics, you can change the metric used in RRS and the outputted numbers will be the mean and standard error across the folds for that metric."
      ]
    },
    {
      "cell_type": "code",
      "execution_count": 61,
      "metadata": {
        "id": "tHJw6sZ2ZKlw"
      },
      "outputs": [],
      "source": [
        "def run_experiment():\n",
        "    # Load 10,000 MNIST samples\n",
        "    X, Y = prepMNIST(5000)\n",
        "\n",
        "    # Generate hyperparameter settings:\n",
        "    # beta: [0.1, 0.0], alpha: [0.001, 0.01], epochs: [1, 2], hidden units: [50, 100]\n",
        "    settings = generate_param_settings(\n",
        "        [0.1, 0.0],     # beta\n",
        "        [0.001, 0.01],  # alpha\n",
        "        [1, 2],         # epochs\n",
        "        [50, 100]       # hidden units\n",
        "    )\n",
        "\n",
        "    # Perform internal cross validation with 3 folds to select the best parameters.\n",
        "    best_params = internal_cross_validation(settings, 3, X, Y)\n",
        "    print(\"Best β: \", best_params.β)\n",
        "    print(\"Best alpha: \", best_params.alpha)\n",
        "    print(\"Best number of epochs: \", best_params.epochs)\n",
        "    print(\"Best hidden units size: \", best_params.hidden)\n",
        "\n",
        "    # Create a random generator with seed 734\n",
        "    rng = np.random.default_rng(734)\n",
        "\n",
        "    # Run repeated random sampling using the best parameters, 5 repetitions, and a training fraction of 0.75.\n",
        "    acc, stderr = repeated_random_sampling(best_params, X, Y, 5, 0.75, rng)\n",
        "\n",
        "    return acc, stderr"
      ]
    },
    {
      "cell_type": "code",
      "execution_count": 62,
      "metadata": {
        "colab": {
          "base_uri": "https://localhost:8080/",
          "height": 333
        },
        "id": "8Sv_pnIAZwhR",
        "outputId": "8f1f4403-a499-4787-94af-486170b0755b"
      },
      "outputs": [
        {
          "ename": "KeyboardInterrupt",
          "evalue": "",
          "output_type": "error",
          "traceback": [
            "\u001b[0;31m---------------------------------------------------------------------------\u001b[0m",
            "\u001b[0;31mKeyboardInterrupt\u001b[0m                         Traceback (most recent call last)",
            "\u001b[0;32m<ipython-input-62-23fbfc68929f>\u001b[0m in \u001b[0;36m<cell line: 0>\u001b[0;34m()\u001b[0m\n\u001b[1;32m      2\u001b[0m \u001b[0;31m## it will approximately 10~15m on colab\u001b[0m\u001b[0;34m\u001b[0m\u001b[0;34m\u001b[0m\u001b[0m\n\u001b[1;32m      3\u001b[0m \u001b[0;34m\u001b[0m\u001b[0m\n\u001b[0;32m----> 4\u001b[0;31m \u001b[0maccuracy_val\u001b[0m\u001b[0;34m,\u001b[0m \u001b[0mstd_err\u001b[0m \u001b[0;34m=\u001b[0m \u001b[0mrun_experiment\u001b[0m\u001b[0;34m(\u001b[0m\u001b[0;34m)\u001b[0m\u001b[0;34m\u001b[0m\u001b[0;34m\u001b[0m\u001b[0m\n\u001b[0m\u001b[1;32m      5\u001b[0m \u001b[0mprint\u001b[0m\u001b[0;34m(\u001b[0m\u001b[0;34m\"Repeated Random Sampling -> Accuracy:\"\u001b[0m\u001b[0;34m,\u001b[0m \u001b[0maccuracy_val\u001b[0m\u001b[0;34m,\u001b[0m \u001b[0;34m\"Std Error:\"\u001b[0m\u001b[0;34m,\u001b[0m \u001b[0mstd_err\u001b[0m\u001b[0;34m)\u001b[0m\u001b[0;34m\u001b[0m\u001b[0;34m\u001b[0m\u001b[0m\n",
            "\u001b[0;32m<ipython-input-61-66e1e1f499c7>\u001b[0m in \u001b[0;36mrun_experiment\u001b[0;34m()\u001b[0m\n\u001b[1;32m     13\u001b[0m \u001b[0;34m\u001b[0m\u001b[0m\n\u001b[1;32m     14\u001b[0m     \u001b[0;31m# Perform internal cross validation with 3 folds to select the best parameters.\u001b[0m\u001b[0;34m\u001b[0m\u001b[0;34m\u001b[0m\u001b[0m\n\u001b[0;32m---> 15\u001b[0;31m     \u001b[0mbest_params\u001b[0m \u001b[0;34m=\u001b[0m \u001b[0minternal_cross_validation\u001b[0m\u001b[0;34m(\u001b[0m\u001b[0msettings\u001b[0m\u001b[0;34m,\u001b[0m \u001b[0;36m3\u001b[0m\u001b[0;34m,\u001b[0m \u001b[0mX\u001b[0m\u001b[0;34m,\u001b[0m \u001b[0mY\u001b[0m\u001b[0;34m)\u001b[0m\u001b[0;34m\u001b[0m\u001b[0;34m\u001b[0m\u001b[0m\n\u001b[0m\u001b[1;32m     16\u001b[0m     \u001b[0mprint\u001b[0m\u001b[0;34m(\u001b[0m\u001b[0;34m\"Best β: \"\u001b[0m\u001b[0;34m,\u001b[0m \u001b[0mbest_params\u001b[0m\u001b[0;34m.\u001b[0m\u001b[0mβ\u001b[0m\u001b[0;34m)\u001b[0m\u001b[0;34m\u001b[0m\u001b[0;34m\u001b[0m\u001b[0m\n\u001b[1;32m     17\u001b[0m     \u001b[0mprint\u001b[0m\u001b[0;34m(\u001b[0m\u001b[0;34m\"Best alpha: \"\u001b[0m\u001b[0;34m,\u001b[0m \u001b[0mbest_params\u001b[0m\u001b[0;34m.\u001b[0m\u001b[0malpha\u001b[0m\u001b[0;34m)\u001b[0m\u001b[0;34m\u001b[0m\u001b[0;34m\u001b[0m\u001b[0m\n",
            "\u001b[0;32m<ipython-input-54-b6175ff625c6>\u001b[0m in \u001b[0;36minternal_cross_validation\u001b[0;34m(settings, k, X, Y, comparator)\u001b[0m\n\u001b[1;32m     54\u001b[0m \u001b[0;34m\u001b[0m\u001b[0m\n\u001b[1;32m     55\u001b[0m             \u001b[0;31m# Train the model with the given parameter settings and seed\u001b[0m\u001b[0;34m\u001b[0m\u001b[0;34m\u001b[0m\u001b[0m\n\u001b[0;32m---> 56\u001b[0;31m             \u001b[0msae\u001b[0m \u001b[0;34m=\u001b[0m \u001b[0mtrain\u001b[0m\u001b[0;34m(\u001b[0m\u001b[0mX_train\u001b[0m\u001b[0;34m,\u001b[0m \u001b[0mY_train\u001b[0m\u001b[0;34m,\u001b[0m \u001b[0mparams\u001b[0m\u001b[0;34m,\u001b[0m \u001b[0mseed\u001b[0m\u001b[0;34m)\u001b[0m\u001b[0;34m\u001b[0m\u001b[0;34m\u001b[0m\u001b[0m\n\u001b[0m\u001b[1;32m     57\u001b[0m \u001b[0;34m\u001b[0m\u001b[0m\n\u001b[1;32m     58\u001b[0m             \u001b[0;31m# Compute the metric on the validation set\u001b[0m\u001b[0;34m\u001b[0m\u001b[0;34m\u001b[0m\u001b[0m\n",
            "\u001b[0;32m<ipython-input-28-44ef2f8b6aaf>\u001b[0m in \u001b[0;36mtrain\u001b[0;34m(X, Y, params, seed)\u001b[0m\n\u001b[1;32m     23\u001b[0m \u001b[0;34m\u001b[0m\u001b[0m\n\u001b[1;32m     24\u001b[0m             \u001b[0;31m# Compute the gradients\u001b[0m\u001b[0;34m\u001b[0m\u001b[0;34m\u001b[0m\u001b[0m\n\u001b[0;32m---> 25\u001b[0;31m             \u001b[0md_wx\u001b[0m\u001b[0;34m,\u001b[0m \u001b[0md_wy\u001b[0m\u001b[0;34m,\u001b[0m \u001b[0md_w2\u001b[0m \u001b[0;34m=\u001b[0m \u001b[0mgradient\u001b[0m\u001b[0;34m(\u001b[0m\u001b[0msae\u001b[0m\u001b[0;34m,\u001b[0m \u001b[0mparams\u001b[0m\u001b[0;34m,\u001b[0m \u001b[0mx_sample\u001b[0m\u001b[0;34m,\u001b[0m \u001b[0my_sample\u001b[0m\u001b[0;34m)\u001b[0m\u001b[0;34m\u001b[0m\u001b[0;34m\u001b[0m\u001b[0m\n\u001b[0m\u001b[1;32m     26\u001b[0m             \u001b[0;31m# Update the weights using gradient descent\u001b[0m\u001b[0;34m\u001b[0m\u001b[0;34m\u001b[0m\u001b[0m\n\u001b[1;32m     27\u001b[0m             \u001b[0msae\u001b[0m\u001b[0;34m.\u001b[0m\u001b[0mWx\u001b[0m \u001b[0;34m-=\u001b[0m \u001b[0mparams\u001b[0m\u001b[0;34m.\u001b[0m\u001b[0malpha\u001b[0m \u001b[0;34m*\u001b[0m \u001b[0md_wx\u001b[0m\u001b[0;34m\u001b[0m\u001b[0;34m\u001b[0m\u001b[0m\n",
            "\u001b[0;32m<ipython-input-17-7acc0ab66bda>\u001b[0m in \u001b[0;36mgradient\u001b[0;34m(sae, params, X, Y)\u001b[0m\n\u001b[1;32m     28\u001b[0m     \u001b[0;31m### BEGIN SOLUTION\u001b[0m\u001b[0;34m\u001b[0m\u001b[0;34m\u001b[0m\u001b[0m\n\u001b[1;32m     29\u001b[0m     \u001b[0;31m# Gradient for W2\u001b[0m\u001b[0;34m\u001b[0m\u001b[0;34m\u001b[0m\u001b[0m\n\u001b[0;32m---> 30\u001b[0;31m     \u001b[0mdelta_h\u001b[0m \u001b[0;34m=\u001b[0m \u001b[0mnp\u001b[0m\u001b[0;34m.\u001b[0m\u001b[0mdot\u001b[0m\u001b[0;34m(\u001b[0m\u001b[0mdelta_wx\u001b[0m\u001b[0;34m,\u001b[0m \u001b[0msae\u001b[0m\u001b[0;34m.\u001b[0m\u001b[0mWx\u001b[0m\u001b[0;34m.\u001b[0m\u001b[0mT\u001b[0m\u001b[0;34m)\u001b[0m \u001b[0;34m+\u001b[0m \u001b[0mnp\u001b[0m\u001b[0;34m.\u001b[0m\u001b[0mdot\u001b[0m\u001b[0;34m(\u001b[0m\u001b[0mdelta_wy\u001b[0m\u001b[0;34m,\u001b[0m \u001b[0msae\u001b[0m\u001b[0;34m.\u001b[0m\u001b[0mWy\u001b[0m\u001b[0;34m.\u001b[0m\u001b[0mT\u001b[0m\u001b[0;34m)\u001b[0m\u001b[0;34m\u001b[0m\u001b[0;34m\u001b[0m\u001b[0m\n\u001b[0m\u001b[1;32m     31\u001b[0m     \u001b[0mgrad_W2\u001b[0m \u001b[0;34m=\u001b[0m \u001b[0mnp\u001b[0m\u001b[0;34m.\u001b[0m\u001b[0mdot\u001b[0m\u001b[0;34m(\u001b[0m\u001b[0mX\u001b[0m\u001b[0;34m.\u001b[0m\u001b[0mT\u001b[0m\u001b[0;34m,\u001b[0m \u001b[0mdelta_h\u001b[0m\u001b[0;34m)\u001b[0m\u001b[0;34m\u001b[0m\u001b[0;34m\u001b[0m\u001b[0m\n\u001b[1;32m     32\u001b[0m           \u001b[0;31m### END SOLUTION\u001b[0m\u001b[0;34m\u001b[0m\u001b[0;34m\u001b[0m\u001b[0m\n",
            "\u001b[0;31mKeyboardInterrupt\u001b[0m: "
          ]
        }
      ],
      "source": [
        "## uncomment the following when you are ready to run it\n",
        "## it will approximately 10~15m on colab (im on colab forgive me)\n",
        "\n",
        "accuracy_val, std_err = run_experiment()\n",
        "print(\"Repeated Random Sampling -> Accuracy:\", accuracy_val, \"Std Error:\", std_err)"
      ]
    }
  ],
  "metadata": {
    "colab": {
      "provenance": []
    },
    "kernelspec": {
      "display_name": "env (3.10.6)",
      "language": "python",
      "name": "python3"
    },
    "language_info": {
      "codemirror_mode": {
        "name": "ipython",
        "version": 3
      },
      "file_extension": ".py",
      "mimetype": "text/x-python",
      "name": "python",
      "nbconvert_exporter": "python",
      "pygments_lexer": "ipython3",
      "version": "3.10.6"
    }
  },
  "nbformat": 4,
  "nbformat_minor": 0
}
